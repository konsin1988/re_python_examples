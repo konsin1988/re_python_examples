{
 "cells": [
  {
   "cell_type": "code",
   "execution_count": 1,
   "id": "40a4fa1e-347a-4b0f-9a78-937c9abc2a26",
   "metadata": {},
   "outputs": [],
   "source": [
    "import re"
   ]
  },
  {
   "cell_type": "code",
   "execution_count": 3,
   "id": "8a1f2db5-4c41-4c1c-bd75-6a3790c475c5",
   "metadata": {},
   "outputs": [],
   "source": [
    "# Исправьте код так, чтобы он заменил все буквы O на X. \n",
    "# Новая буква должна быть такого же регистра, как и оригинальная.\n",
    "# Нужно исправить код, чтобы он смог заменить O на X, o на x."
   ]
  },
  {
   "cell_type": "code",
   "execution_count": 4,
   "id": "4596d953-719d-458c-a07e-23d389921d93",
   "metadata": {},
   "outputs": [],
   "source": [
    "s = r'''LOST CXNTURY - CYBERSITY | scarlord - FALSE HOPE'''"
   ]
  },
  {
   "cell_type": "code",
   "execution_count": 8,
   "id": "d8438aa7-eb00-4071-bfe9-565745d69d66",
   "metadata": {},
   "outputs": [
    {
     "name": "stdout",
     "output_type": "stream",
     "text": [
      "LXST CXNTURY - CYBERSITY | scarlxrd - FALSE HXPE\n"
     ]
    }
   ],
   "source": [
    "def get_x(m):\n",
    "    return {'o': 'x', 'O':'X'}[m[0]]\n",
    "\n",
    "print(re.sub('O', get_x, s, flags=re.I))"
   ]
  },
  {
   "cell_type": "code",
   "execution_count": 11,
   "id": "3cc90712-caf3-4a53-9b71-9900389b6baa",
   "metadata": {},
   "outputs": [],
   "source": [
    "# Найдите все слова привет. Регистр учитывать не нужно.\n",
    "s = r'''ПРИВЕТспампрИвЕТspamпРИвет123ПРИвЕт456ПРиВет789ПРиВет10пРиВЕТПокаПРиВеТHiпРИВетHelloПРиветTestприветStringПривЕт'''"
   ]
  },
  {
   "cell_type": "code",
   "execution_count": 13,
   "id": "9dcc63db-1878-45bd-88e3-c7dd3d15d9aa",
   "metadata": {},
   "outputs": [
    {
     "name": "stdout",
     "output_type": "stream",
     "text": [
      "['ПРИВЕТ', 'прИвЕТ', 'пРИвет', 'ПРИвЕт', 'ПРиВет', 'ПРиВет', 'пРиВЕТ', 'ПРиВеТ', 'пРИВет', 'ПРивет', 'привет', 'ПривЕт']\n"
     ]
    }
   ],
   "source": [
    "regex = re.compile(r'привет', flags=re.I)\n",
    "match = regex.findall(s)\n",
    "print(match)"
   ]
  },
  {
   "cell_type": "code",
   "execution_count": null,
   "id": "119873a5-7f38-4c99-a6ac-68251a3e73db",
   "metadata": {},
   "outputs": [],
   "source": []
  }
 ],
 "metadata": {
  "kernelspec": {
   "display_name": "Python 3 (ipykernel)",
   "language": "python",
   "name": "python3"
  },
  "language_info": {
   "codemirror_mode": {
    "name": "ipython",
    "version": 3
   },
   "file_extension": ".py",
   "mimetype": "text/x-python",
   "name": "python",
   "nbconvert_exporter": "python",
   "pygments_lexer": "ipython3",
   "version": "3.12.3"
  }
 },
 "nbformat": 4,
 "nbformat_minor": 5
}

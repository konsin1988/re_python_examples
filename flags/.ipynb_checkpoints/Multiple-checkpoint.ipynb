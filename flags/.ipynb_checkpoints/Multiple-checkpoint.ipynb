{
 "cells": [
  {
   "cell_type": "code",
   "execution_count": 1,
   "id": "0841eb70-e742-44ac-8814-6de505277b88",
   "metadata": {},
   "outputs": [],
   "source": [
    "import re"
   ]
  },
  {
   "cell_type": "code",
   "execution_count": 2,
   "id": "47d7fc92-22ba-4dca-8714-39dee83f6707",
   "metadata": {},
   "outputs": [],
   "source": [
    "# Длинные строки\n",
    "# Из всех строк в переменной text найти только те, которые полностью состоят из символов ^$"
   ]
  },
  {
   "cell_type": "code",
   "execution_count": 3,
   "id": "5258b14b-1e26-4f01-a858-ecfa9071434c",
   "metadata": {},
   "outputs": [],
   "source": [
    "s = r'''$$^^$^$$4^^$^^$$$\n",
    "^$^$\n",
    "^$$^$^^^$^^$$^$$$$\n",
    "^^^^$$S^$^$^$^$^^$$'''"
   ]
  },
  {
   "cell_type": "code",
   "execution_count": 7,
   "id": "3440a3a9-b722-4d3e-bda1-3a1c3ad3de25",
   "metadata": {},
   "outputs": [
    {
     "name": "stdout",
     "output_type": "stream",
     "text": [
      "['^$^$', '^$$^$^^^$^^$$^$$$$']\n"
     ]
    }
   ],
   "source": [
    "regex = re.compile(r'^[\\^\\$]+$', re.M)\n",
    "match = regex.findall(s)\n",
    "print(match)"
   ]
  },
  {
   "cell_type": "code",
   "execution_count": null,
   "id": "f29a4b0c-f08c-40b0-9245-3bb5071fbe2b",
   "metadata": {},
   "outputs": [],
   "source": []
  }
 ],
 "metadata": {
  "kernelspec": {
   "display_name": "Python 3 (ipykernel)",
   "language": "python",
   "name": "python3"
  },
  "language_info": {
   "codemirror_mode": {
    "name": "ipython",
    "version": 3
   },
   "file_extension": ".py",
   "mimetype": "text/x-python",
   "name": "python",
   "nbconvert_exporter": "python",
   "pygments_lexer": "ipython3",
   "version": "3.12.3"
  }
 },
 "nbformat": 4,
 "nbformat_minor": 5
}

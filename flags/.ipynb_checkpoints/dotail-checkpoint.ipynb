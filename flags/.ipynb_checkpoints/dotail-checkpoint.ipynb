{
 "cells": [
  {
   "cell_type": "code",
   "execution_count": 1,
   "id": "4a1c0b8a-6107-43a8-a089-46ed52240aa8",
   "metadata": {},
   "outputs": [],
   "source": [
    "import re"
   ]
  },
  {
   "cell_type": "code",
   "execution_count": 2,
   "id": "da8a1fe7-30b4-4e8e-835a-2c84cc3d19cc",
   "metadata": {},
   "outputs": [],
   "source": [
    "s = r'''start\n",
    "Каждое\n",
    "Слово\n",
    "На\n",
    "Новой\n",
    "Строке\n",
    "end'''"
   ]
  },
  {
   "cell_type": "code",
   "execution_count": 6,
   "id": "cb5dafd7-9b41-4715-afe5-6466f0a211be",
   "metadata": {},
   "outputs": [
    {
     "name": "stdout",
     "output_type": "stream",
     "text": [
      "['\\nКаждое\\nСлово\\nНа\\nНовой\\nСтроке\\n']\n"
     ]
    }
   ],
   "source": [
    "regex = re.compile(r'(?<=start).+(?=end)', flags=re.S)\n",
    "print(regex.findall(s))"
   ]
  },
  {
   "cell_type": "code",
   "execution_count": null,
   "id": "36efadf9-6bf6-4e4e-97b3-c5182d25f728",
   "metadata": {},
   "outputs": [],
   "source": []
  }
 ],
 "metadata": {
  "kernelspec": {
   "display_name": "Python 3 (ipykernel)",
   "language": "python",
   "name": "python3"
  },
  "language_info": {
   "codemirror_mode": {
    "name": "ipython",
    "version": 3
   },
   "file_extension": ".py",
   "mimetype": "text/x-python",
   "name": "python",
   "nbconvert_exporter": "python",
   "pygments_lexer": "ipython3",
   "version": "3.12.3"
  }
 },
 "nbformat": 4,
 "nbformat_minor": 5
}

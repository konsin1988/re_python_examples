{
 "cells": [
  {
   "cell_type": "code",
   "execution_count": 2,
   "id": "42e3d184-6c07-4c47-b49f-45a90c38f6a6",
   "metadata": {},
   "outputs": [],
   "source": [
    "import re"
   ]
  },
  {
   "cell_type": "code",
   "execution_count": null,
   "id": "76a78c10-e10a-43b4-8930-4127b3b0bfda",
   "metadata": {},
   "outputs": [],
   "source": [
    "# удаление удаление\n",
    "# Нужно заменить 2 повторяющиеся слова на одно:\n",
    "\n",
    "#     Слова состоят из кириллических букв\n",
    "#     Между ними стоит пробел\n",
    "#     Если у слов разный регистр - слова разные"
   ]
  },
  {
   "cell_type": "code",
   "execution_count": 6,
   "id": "7880ebae-8ab1-45a3-a210-f0a1b2dc76da",
   "metadata": {},
   "outputs": [],
   "source": [
    "s1 = r'''Нужно удалять удалять повторяющиеся слова слова.'''"
   ]
  },
  {
   "cell_type": "code",
   "execution_count": 7,
   "id": "0effc652-feba-4fba-913d-90ffa2837e30",
   "metadata": {},
   "outputs": [
    {
     "name": "stdout",
     "output_type": "stream",
     "text": [
      "Нужно удалять повторяющиеся слова.\n"
     ]
    }
   ],
   "source": [
    "regex1 = re.compile(r'(\\w+) \\1')\n",
    "match = re.sub(regex1, r'\\1', s1)\n",
    "print(match)"
   ]
  },
  {
   "cell_type": "code",
   "execution_count": null,
   "id": "e22c0cca-3bf7-4f11-b5a8-02a51e90a80b",
   "metadata": {},
   "outputs": [],
   "source": [
    "# Markdown в HTML\n",
    "# Нужно найти следующие последовательности:\n",
    "\n",
    "#     Начинается и заканчивается с ** или *\n",
    "#     В середине последовательность любой длины из букв кириллического и латинского алфавитов обоих регистров, а также пробелов\n",
    "\n",
    "# И заменить **text** на <strong>text</strong>, а *text* на <em>text</em>"
   ]
  },
  {
   "cell_type": "code",
   "execution_count": 26,
   "id": "e4dc0b55-66ca-47ee-8d7f-e4edacdd491b",
   "metadata": {},
   "outputs": [],
   "source": [
    "s2 = r'''Как же я люблю **Markdown**!'''"
   ]
  },
  {
   "cell_type": "code",
   "execution_count": 29,
   "id": "7cb407f4-5ea8-4adb-a582-e52735854463",
   "metadata": {},
   "outputs": [
    {
     "name": "stdout",
     "output_type": "stream",
     "text": [
      "Как же я люблю <strong>Markdown</strong>!\n"
     ]
    }
   ],
   "source": [
    "regex_strong = re.compile(r'(?P<sub_gr>\\*\\*)(?P<main_text>.+?)(?P=sub_gr)')\n",
    "regex_em = re.compile(r'(?P<sub_gr>\\*)(?P<main_text>.+?)(?P=sub_gr)')\n",
    "match = re.sub(regex_strong, r'<strong>\\g<main_text></strong>', s2)\n",
    "match = re.sub(regex_em, r'<em>\\g<main_text></em>', match)\n",
    "print(match)"
   ]
  },
  {
   "cell_type": "code",
   "execution_count": null,
   "id": "25d1fb11-e640-40ab-b90d-54b73346e014",
   "metadata": {},
   "outputs": [],
   "source": [
    "# Добавляем протокол к прокси\n",
    "# Что нужно сделать:\n",
    "\n",
    "# Нужно найти следующие последовательности:\n",
    "\n",
    "#     Адрес состоит из любых числовых последовательностей, разделённых .\n",
    "#     В середине стоит :\n",
    "#     Порт является любой числовой последовательностью\n",
    "\n",
    "# и в начало к ним добавить протокол http://."
   ]
  },
  {
   "cell_type": "code",
   "execution_count": 30,
   "id": "cb36263a-b5cf-4aca-94e2-2f6787bbd436",
   "metadata": {},
   "outputs": [],
   "source": [
    "s3 = r'''Будем 193.193.240.37:45944 считать 221.182.31.54:8080 что 200.199.38.234:8080 все 212.83.166.175:5836 прокси 74.121.98.90:8080 валидные 82.200.181.54:3128 125.25.82.191:8080 187.108.90.163:44574 103.89.235.226:83 154.126.211.169:41014 54.189.97.191:3128 85.114.98.246:8080 190.242.98.61:8083 173.82.74.62:5836 202.21.105.115:80'''"
   ]
  },
  {
   "cell_type": "code",
   "execution_count": 36,
   "id": "e133deff-b071-4ab9-88c3-9d9d0100af9d",
   "metadata": {},
   "outputs": [
    {
     "name": "stdout",
     "output_type": "stream",
     "text": [
      "Будем http://193.193.240.37:45944 считать http://221.182.31.54:8080 что http://200.199.38.234:8080 все http://212.83.166.175:5836 прокси http://74.121.98.90:8080 валидные http://82.200.181.54:3128 http://125.25.82.191:8080 http://187.108.90.163:44574 http://103.89.235.226:83 http://154.126.211.169:41014 http://54.189.97.191:3128 http://85.114.98.246:8080 http://190.242.98.61:8083 http://173.82.74.62:5836 http://202.21.105.115:80\n"
     ]
    }
   ],
   "source": [
    "regex_proxy = re.compile(r'(?P<proxy>(\\d+\\.)*\\d+:\\d+?)')\n",
    "match = re.sub(regex_proxy, r'http://\\g<proxy>', s3)\n",
    "print(match)"
   ]
  },
  {
   "cell_type": "code",
   "execution_count": 37,
   "id": "c8130ac0-05d0-4c41-a0b6-9a2728a1a993",
   "metadata": {},
   "outputs": [],
   "source": [
    "# mm/dd/yyyy на dd/mm/yyyy\n",
    "# Нужно найти следующие последовательности:\n",
    "\n",
    "#     Дата типа mm/dd/yyyy\n",
    "#     mm, dd, yyyy - любые числовые последовательности длиной 2, 2, 4 соответственно\n",
    "#     Между ними стоят разделители . или /\n",
    "\n",
    "# и переставить mm с dd местами, чтобы получилась дата вида dd/mm/yyyy"
   ]
  },
  {
   "cell_type": "code",
   "execution_count": 43,
   "id": "5d3aad05-2153-4ce4-baf7-86205599a44c",
   "metadata": {},
   "outputs": [],
   "source": [
    "s4 = r'''Сегодня 04/24/2022.'''"
   ]
  },
  {
   "cell_type": "code",
   "execution_count": 44,
   "id": "7b5912c5-484e-4dc9-a590-542c806c1141",
   "metadata": {},
   "outputs": [
    {
     "name": "stdout",
     "output_type": "stream",
     "text": [
      "Сегодня 24/04/2022.\n"
     ]
    }
   ],
   "source": [
    "regex_dates = re.compile(r'(?P<month>\\d{2})(?P<sep>[\\./]{1})(?P<day>\\d{2})(?P=sep)(?P<year>\\d{4})')\n",
    "match = re.sub(regex_dates, r'\\g<day>\\g<sep>\\g<month>\\g<sep>\\g<year>', s4)\n",
    "print(match)"
   ]
  },
  {
   "cell_type": "code",
   "execution_count": 45,
   "id": "31fbbe2c-ec74-474b-a1b3-3b39a7d59845",
   "metadata": {},
   "outputs": [],
   "source": [
    "# Грамотность\n",
    "# Нужно найти следующие последовательности:\n",
    "\n",
    "#     Начинается с его/её/их или Его/Её/Их\n",
    "#     Потом идёт последовательность кириллических букв максимальной длины\n",
    "\n",
    "# и убрать из них ненужную часть."
   ]
  },
  {
   "cell_type": "code",
   "execution_count": 60,
   "id": "79ea82cc-4a70-4b66-a390-24e1f7e23a2b",
   "metadata": {},
   "outputs": [],
   "source": [
    "s5 = r'''Слова \"егонный\", \"еённый\" (т.е. его и её) уже норма языка, или принимается уже в норму?'''"
   ]
  },
  {
   "cell_type": "code",
   "execution_count": 64,
   "id": "39e32a52-5231-48e0-a987-c6236cf59be5",
   "metadata": {},
   "outputs": [
    {
     "name": "stdout",
     "output_type": "stream",
     "text": [
      "Слова \"его\", \"её\" (т.е. его и её) уже норма языка, или принимается уже в норму?\n"
     ]
    }
   ],
   "source": [
    "regex_right_writting = re.compile(r'((?<=\\s)|(?<=^)|(?<=\\b))(?P<main>[Ее]го|[еЕ]ё|[Ии]х)([Ё-ё]+?)((?=\\s)|(?=[\\.,\\?\\!])|(?=\\b))')\n",
    "match = re.sub(regex_right_writting, r'\\g<main>', s5)\n",
    "print(match)"
   ]
  },
  {
   "cell_type": "code",
   "execution_count": 65,
   "id": "c0fd4c66-58ce-405e-91c8-6a39f105aba8",
   "metadata": {},
   "outputs": [],
   "source": [
    "# Цены\n",
    "# Нужно найти первую цену в тексте:\n",
    "\n",
    "#     Любая числовая последовательность\n",
    "#     В конце стоит ₽$\n",
    "\n",
    "# и подставить её в строку Цена данного товара x."
   ]
  },
  {
   "cell_type": "code",
   "execution_count": 66,
   "id": "9311e30d-22d8-403a-97a2-df61abf06851",
   "metadata": {},
   "outputs": [],
   "source": [
    "s6 = r'''Хочу купить себе какую-то ненужную вещь за 1000₽ или 5000₽, ведь вся моя жизнь построена на потреблении и удовлетворении своих никчёмных потребностей самым примитивным способом.'''"
   ]
  },
  {
   "cell_type": "code",
   "execution_count": 69,
   "id": "a143d286-8804-4dc4-bca3-aa38ece8be47",
   "metadata": {},
   "outputs": [
    {
     "name": "stdout",
     "output_type": "stream",
     "text": [
      "Цена данного товара 1000₽\n"
     ]
    }
   ],
   "source": [
    "regex_price = re.compile(r'(\\d{1,}[₽$])')\n",
    "match = re.search(regex_price, s6)\n",
    "if(match):\n",
    "    print(match.expand(r\"Цена данного товара \\1\"))"
   ]
  },
  {
   "cell_type": "code",
   "execution_count": null,
   "id": "f11a1e93-b40c-4b30-9a9b-52705c2b2953",
   "metadata": {},
   "outputs": [],
   "source": []
  }
 ],
 "metadata": {
  "kernelspec": {
   "display_name": "Python 3 (ipykernel)",
   "language": "python",
   "name": "python3"
  },
  "language_info": {
   "codemirror_mode": {
    "name": "ipython",
    "version": 3
   },
   "file_extension": ".py",
   "mimetype": "text/x-python",
   "name": "python",
   "nbconvert_exporter": "python",
   "pygments_lexer": "ipython3",
   "version": "3.12.3"
  }
 },
 "nbformat": 4,
 "nbformat_minor": 5
}

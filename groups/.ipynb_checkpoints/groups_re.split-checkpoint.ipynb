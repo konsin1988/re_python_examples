{
 "cells": [
  {
   "cell_type": "code",
   "execution_count": 3,
   "id": "26e66adb-6e5f-473d-a3c6-963fc1550661",
   "metadata": {},
   "outputs": [],
   "source": [
    "import re"
   ]
  },
  {
   "cell_type": "code",
   "execution_count": 1,
   "id": "13f1c578-febd-453d-a664-cad1c4b3e3fc",
   "metadata": {},
   "outputs": [],
   "source": [
    "s1 = r'''2 + 24 * 122 = 6'''"
   ]
  },
  {
   "cell_type": "code",
   "execution_count": 4,
   "id": "04501a73-5545-4029-b59a-850a78a5ade6",
   "metadata": {},
   "outputs": [
    {
     "name": "stdout",
     "output_type": "stream",
     "text": [
      "['2', '+', '24', '*', '122', '=', '6']\n"
     ]
    }
   ],
   "source": [
    "regex1 = re.compile(r'\\s([+*=])\\s')\n",
    "match1 = re.split(regex1, s1)\n",
    "print(match1)"
   ]
  },
  {
   "cell_type": "code",
   "execution_count": null,
   "id": "5fd8bb0d-cc4d-471a-a459-61a60b2c0bf9",
   "metadata": {},
   "outputs": [],
   "source": [
    "# Странная математика\n",
    "# Нужно разделить строку по следующей последовательности:\n",
    "\n",
    "#     В левой части нечисловая последовательность символов любой длины\n",
    "#     В  середине стоит один из символов +:=*/-\n",
    "#     В правой части нечисловая последовательность символов любой длины"
   ]
  },
  {
   "cell_type": "code",
   "execution_count": 35,
   "id": "56ca6572-a080-4a72-95d8-da69441ee090",
   "metadata": {},
   "outputs": [],
   "source": [
    "s2 = r'''10spam+again5 =g15'''"
   ]
  },
  {
   "cell_type": "code",
   "execution_count": 36,
   "id": "cfe60f45-e698-4e80-87f1-e15e0c92c44a",
   "metadata": {},
   "outputs": [
    {
     "name": "stdout",
     "output_type": "stream",
     "text": [
      "['10', '+', '5', '=', '15']\n"
     ]
    }
   ],
   "source": [
    "regex2 = re.compile(r'[a-zA-ZЁ-ё\\s\\.]+([+:=*/-])[a-zA-ZЁ-ё\\s\\.]+')\n",
    "match = re.split(regex2, s2)\n",
    "print(match)"
   ]
  },
  {
   "cell_type": "code",
   "execution_count": 37,
   "id": "b4ef70ad-6fcc-4702-9600-0e2d978f32af",
   "metadata": {},
   "outputs": [],
   "source": [
    "# Разделяем параметры\n",
    "# Нужно разделить строку по символвам ? и &, оставив эти символы в полученном списке."
   ]
  },
  {
   "cell_type": "code",
   "execution_count": 38,
   "id": "802b5f18-8bc2-452f-941d-532644a40312",
   "metadata": {},
   "outputs": [],
   "source": [
    "s3 = r'''https://www.youtube.com/results?search_query=random+stream&sp=EggIARABGAFAAQ%253D%253D'''"
   ]
  },
  {
   "cell_type": "code",
   "execution_count": 39,
   "id": "5059099b-0026-4530-8fbc-d64bdeaa2517",
   "metadata": {},
   "outputs": [
    {
     "name": "stdout",
     "output_type": "stream",
     "text": [
      "['https://www.youtube.com/results', '?', 'search_query=random+stream', '&', 'sp=EggIARABGAFAAQ%253D%253D']\n"
     ]
    }
   ],
   "source": [
    "regex3 = re.compile(r'([\\?&])')\n",
    "match = re.split(regex3, s3)\n",
    "print(match)"
   ]
  },
  {
   "cell_type": "code",
   "execution_count": null,
   "id": "c1151064-c054-470c-9ac1-623200e3835a",
   "metadata": {},
   "outputs": [],
   "source": []
  }
 ],
 "metadata": {
  "kernelspec": {
   "display_name": "Python 3 (ipykernel)",
   "language": "python",
   "name": "python3"
  },
  "language_info": {
   "codemirror_mode": {
    "name": "ipython",
    "version": 3
   },
   "file_extension": ".py",
   "mimetype": "text/x-python",
   "name": "python",
   "nbconvert_exporter": "python",
   "pygments_lexer": "ipython3",
   "version": "3.12.3"
  }
 },
 "nbformat": 4,
 "nbformat_minor": 5
}
